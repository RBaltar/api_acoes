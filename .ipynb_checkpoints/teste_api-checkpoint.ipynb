{
 "cells": [
  {
   "cell_type": "markdown",
   "id": "5b90dd3d",
   "metadata": {},
   "source": [
    "# Teste Completo da API de Ações\n",
    "\n",
    "Este notebook executa uma suíte de testes para todos os endpoints da nossa API, verificando casos de sucesso e de erro."
   ]
  },
  {
   "cell_type": "code",
   "execution_count": null,
   "id": "d10441a4",
   "metadata": {
    "vscode": {
     "languageId": "plaintext"
    }
   },
   "outputs": [],
   "source": [
    "import requests\n",
    "import json\n",
    "import pandas as pd\n",
    "from IPython.display import display\n",
    "\n",
    "# --- CONFIGURAÇÕES ---\n",
    "BASE_URL = \"http://127.0.0.1:8000\"\n",
    "# ❗ IMPORTANTE: Coloque aqui uma chave de API válida que você tenha no seu banco de dados\n",
    "API_KEY = \"SUA_CHAVE_DE_API_AQUI\" \n",
    "HEADERS = {\"X-API-Key\": API_KEY}\n",
    "\n",
    "def testar_endpoint(metodo, url, **kwargs):\n",
    "    \"\"\"Função auxiliar para testar os endpoints e imprimir os resultados de forma organizada.\"\"\"\n",
    "    print(f\"--- Testando: {metodo.upper()} {url} ---\\n\")\n",
    "    try:\n",
    "        response = requests.request(metodo, url, **kwargs)\n",
    "        status_code = response.status_code\n",
    "        print(f\"Status Code: {status_code}\")\n",
    "        \n",
    "        if response.content:\n",
    "            try:\n",
    "                dados = response.json()\n",
    "                print(\"Resposta JSON:\")\n",
    "                if isinstance(dados, list) and len(dados) > 0:\n",
    "                    display(pd.DataFrame(dados))\n",
    "                else:\n",
    "                    print(json.dumps(dados, indent=2, ensure_ascii=False))\n",
    "            except json.JSONDecodeError:\n",
    "                print(\"Resposta não é um JSON válido.\")\n",
    "                print(response.text)\n",
    "        else:\n",
    "            print(\"Resposta sem conteúdo (Body).\")\n",
    "            \n",
    "    except requests.exceptions.RequestException as e:\n",
    "        print(f\"Erro na requisição: {e}\")\n",
    "    print(\"\\n\" + \"=\"*80 + \"\\n\")\n",
    "\n",
    "print(\"Ambiente de teste configurado. Rode as próximas células.\")"
   ]
  },
  {
   "cell_type": "markdown",
   "id": "7359f6fb",
   "metadata": {},
   "source": [
    "## 1. Testes Gerais (Health Check e Listagem)\n",
    "Verificamos se a API está online e se o endpoint de listagem geral está funcionando."
   ]
  },
  {
   "cell_type": "code",
   "execution_count": null,
   "id": "c31e9315",
   "metadata": {
    "vscode": {
     "languageId": "plaintext"
    }
   },
   "outputs": [],
   "source": [
    "# Teste de Status da API (não precisa de chave)\n",
    "testar_endpoint(\"GET\", f\"{BASE_URL}/\")\n",
    "\n",
    "# Teste de Listagem de todos os tickers\n",
    "testar_endpoint(\"GET\", f\"{BASE_URL}/api/v1/acoes/listar-todos\", headers=HEADERS)"
   ]
  },
  {
   "cell_type": "markdown",
   "id": "f34645bf",
   "metadata": {},
   "source": [
    "## 2. Teste de Consulta por Ticker Específico\n",
    "Testamos a busca por um ticker que existe e por um que não existe para validar o tratamento de erro 404."
   ]
  },
  {
   "cell_type": "code",
   "execution_count": null,
   "id": "3cbcec2e",
   "metadata": {
    "vscode": {
     "languageId": "plaintext"
    }
   },
   "outputs": [],
   "source": [
    "# Teste buscando uma ação que existe (ex: PETR4)\n",
    "testar_endpoint(\"GET\", f\"{BASE_URL}/api/v1/acoes/PETR4\", headers=HEADERS)\n",
    "\n",
    "# Teste buscando uma ação que NÃO existe (esperamos um erro 404)\n",
    "testar_endpoint(\"GET\", f\"{BASE_URL}/api/v1/acoes/ACAOINEXISTENTE123\", headers=HEADERS)"
   ]
  },
  {
   "cell_type": "markdown",
   "id": "444dd160",
   "metadata": {},
   "source": [
    "## 3. Teste de Consulta de Múltiplos Tickers\n",
    "Testamos a busca com uma mistura de tickers existentes e não existentes."
   ]
  },
  {
   "cell_type": "markdown",
   "id": "fbaf668f",
   "metadata": {},
   "source": [
    "url_multi = f\"{BASE_URL}/api/v1/acoes/?tickers=PETR4&tickers=VALE3&tickers=NAOEXISTE\"\n",
    "testar_endpoint(\"GET\", url_multi, headers=HEADERS)"
   ]
  },
  {
   "cell_type": "markdown",
   "id": "8d3a9153",
   "metadata": {},
   "source": [
    "## 4. Testes de Dados Relacionados\n",
    "Verificamos os endpoints de eventos corporativos e de índices."
   ]
  },
  {
   "cell_type": "code",
   "execution_count": null,
   "id": "353f9f2b",
   "metadata": {
    "vscode": {
     "languageId": "plaintext"
    }
   },
   "outputs": [],
   "source": [
    "# Teste de eventos corporativos\n",
    "testar_endpoint(\"GET\", f\"{BASE_URL}/api/v1/acoes/PETR4/eventos\", headers=HEADERS)\n",
    "\n",
    "# Teste dos principais índices\n",
    "testar_endpoint(\"GET\", f\"{BASE_URL}/api/v1/acoes/indices/principais\", headers=HEADERS)"
   ]
  },
  {
   "cell_type": "markdown",
   "id": "3043c2d8",
   "metadata": {},
   "source": [
    "## 5. Teste do Endpoint de Exclusão (DELETE)\n",
    "\n",
    "**CUIDADO:** A próxima célula irá deletar dados do banco de forma permanente."
   ]
  },
  {
   "cell_type": "code",
   "execution_count": null,
   "id": "0d634794",
   "metadata": {
    "vscode": {
     "languageId": "plaintext"
    }
   },
   "outputs": [],
   "source": [
    "# Escolha um ticker que você coletou e que pode ser deletado para o teste.\n",
    "TICKER_PARA_DELETAR = \"MGLU3\" \n",
    "\n",
    "print(f\"O teste a seguir irá deletar permanentemente a ação '{TICKER_PARA_DELETAR}' e todos os seus dados.\")\n",
    "\n",
    "# Deleta a ação\n",
    "testar_endpoint(\"DELETE\", f\"{BASE_URL}/api/v1/acoes/{TICKER_PARA_DELETAR}\", headers=HEADERS)\n",
    "\n",
    "# Verifica se a ação foi realmente deletada (agora esperamos um erro 404)\n",
    "print(f\"Verificando se '{TICKER_PARA_DELETAR}' ainda existe...\")\n",
    "testar_endpoint(\"GET\", f\"{BASE_URL}/api/v1/acoes/{TICKER_PARA_DELETAR}\", headers=HEADERS)"
   ]
  }
 ],
 "metadata": {
  "language_info": {
   "name": "python"
  }
 },
 "nbformat": 4,
 "nbformat_minor": 5
}
