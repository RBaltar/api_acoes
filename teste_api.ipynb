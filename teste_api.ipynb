{
 "cells": [
  {
   "cell_type": "markdown",
   "id": "5b90dd3d",
   "metadata": {},
   "source": [
    "# Teste Completo da API de Ações\n",
    "\n",
    "Este notebook executa uma suíte de testes para todos os endpoints da nossa API, verificando casos de sucesso e de erro."
   ]
  },
  {
   "cell_type": "code",
   "execution_count": 5,
   "id": "d10441a4",
   "metadata": {},
   "outputs": [
    {
     "name": "stdout",
     "output_type": "stream",
     "text": [
      "Ambiente de teste configurado. Rode as próximas células.\n"
     ]
    }
   ],
   "source": [
    "import requests\n",
    "import json\n",
    "import pandas as pd\n",
    "from IPython.display import display\n",
    "\n",
    "# --- CONFIGURAÇÕES ---\n",
    "BASE_URL = \"http://127.0.0.1:8000\"\n",
    "# ❗ IMPORTANTE: Coloque aqui uma chave de API válida que você tenha no seu banco de dados\n",
    "API_KEY = \"SUA_CHAVE_DE_API_AQUI\" \n",
    "HEADERS = {\"X-API-Key\": API_KEY}\n",
    "\n",
    "def testar_endpoint(metodo, url, **kwargs):\n",
    "    \"\"\"Função auxiliar para testar os endpoints e imprimir os resultados de forma organizada.\"\"\"\n",
    "    print(f\"--- Testando: {metodo.upper()} {url} ---\\n\")\n",
    "    try:\n",
    "        response = requests.request(metodo, url, **kwargs)\n",
    "        status_code = response.status_code\n",
    "        print(f\"Status Code: {status_code}\")\n",
    "        \n",
    "        if response.content:\n",
    "            try:\n",
    "                dados = response.json()\n",
    "                print(\"Resposta JSON:\")\n",
    "                if isinstance(dados, list) and len(dados) > 0:\n",
    "                    display(pd.DataFrame(dados))\n",
    "                else:\n",
    "                    print(json.dumps(dados, indent=2, ensure_ascii=False))\n",
    "            except json.JSONDecodeError:\n",
    "                print(\"Resposta não é um JSON válido.\")\n",
    "                print(response.text)\n",
    "        else:\n",
    "            print(\"Resposta sem conteúdo (Body).\")\n",
    "            \n",
    "    except requests.exceptions.RequestException as e:\n",
    "        print(f\"Erro na requisição: {e}\")\n",
    "    print(\"\\n\" + \"=\"*80 + \"\\n\")\n",
    "\n",
    "print(\"Ambiente de teste configurado. Rode as próximas células.\")"
   ]
  },
  {
   "cell_type": "markdown",
   "id": "7359f6fb",
   "metadata": {},
   "source": [
    "## 1. Testes Gerais (Health Check e Listagem)\n",
    "Verificamos se a API está online e se o endpoint de listagem geral está funcionando."
   ]
  },
  {
   "cell_type": "code",
   "execution_count": 11,
   "id": "c31e9315",
   "metadata": {},
   "outputs": [
    {
     "name": "stdout",
     "output_type": "stream",
     "text": [
      "--- Testando: GET http://127.0.0.1:8000/ ---\n",
      "\n",
      "Status Code: 200\n",
      "Resposta JSON:\n",
      "{\n",
      "  \"status\": \"API online e operacional!\"\n",
      "}\n",
      "\n",
      "================================================================================\n",
      "\n",
      "--- Testando: GET http://127.0.0.1:8000/api/v1/acoes/listar-todos ---\n",
      "\n",
      "Status Code: 200\n",
      "Resposta JSON:\n"
     ]
    },
    {
     "data": {
      "text/html": [
       "<div>\n",
       "<style scoped>\n",
       "    .dataframe tbody tr th:only-of-type {\n",
       "        vertical-align: middle;\n",
       "    }\n",
       "\n",
       "    .dataframe tbody tr th {\n",
       "        vertical-align: top;\n",
       "    }\n",
       "\n",
       "    .dataframe thead th {\n",
       "        text-align: right;\n",
       "    }\n",
       "</style>\n",
       "<table border=\"1\" class=\"dataframe\">\n",
       "  <thead>\n",
       "    <tr style=\"text-align: right;\">\n",
       "      <th></th>\n",
       "      <th>codigo</th>\n",
       "      <th>nome</th>\n",
       "    </tr>\n",
       "  </thead>\n",
       "  <tbody>\n",
       "    <tr>\n",
       "      <th>0</th>\n",
       "      <td>ABEV3</td>\n",
       "      <td>Empresa ABEV3</td>\n",
       "    </tr>\n",
       "    <tr>\n",
       "      <th>1</th>\n",
       "      <td>B3SA3</td>\n",
       "      <td>Empresa B3SA3</td>\n",
       "    </tr>\n",
       "    <tr>\n",
       "      <th>2</th>\n",
       "      <td>BBAS3</td>\n",
       "      <td>Empresa BBAS3</td>\n",
       "    </tr>\n",
       "    <tr>\n",
       "      <th>3</th>\n",
       "      <td>BBDC4</td>\n",
       "      <td>Empresa BBDC4</td>\n",
       "    </tr>\n",
       "    <tr>\n",
       "      <th>4</th>\n",
       "      <td>EQTL3</td>\n",
       "      <td>Empresa EQTL3</td>\n",
       "    </tr>\n",
       "    <tr>\n",
       "      <th>5</th>\n",
       "      <td>GEMI4</td>\n",
       "      <td>Gemini Enterprises SA</td>\n",
       "    </tr>\n",
       "    <tr>\n",
       "      <th>6</th>\n",
       "      <td>ITUB4</td>\n",
       "      <td>Empresa ITUB4</td>\n",
       "    </tr>\n",
       "    <tr>\n",
       "      <th>7</th>\n",
       "      <td>MGLU3</td>\n",
       "      <td>Empresa MGLU3</td>\n",
       "    </tr>\n",
       "    <tr>\n",
       "      <th>8</th>\n",
       "      <td>PETR4</td>\n",
       "      <td>Empresa PETR4</td>\n",
       "    </tr>\n",
       "    <tr>\n",
       "      <th>9</th>\n",
       "      <td>RENT3</td>\n",
       "      <td>Empresa RENT3</td>\n",
       "    </tr>\n",
       "    <tr>\n",
       "      <th>10</th>\n",
       "      <td>VALE3</td>\n",
       "      <td>Empresa VALE3</td>\n",
       "    </tr>\n",
       "    <tr>\n",
       "      <th>11</th>\n",
       "      <td>WEGE3</td>\n",
       "      <td>Empresa WEGE3</td>\n",
       "    </tr>\n",
       "  </tbody>\n",
       "</table>\n",
       "</div>"
      ],
      "text/plain": [
       "   codigo                   nome\n",
       "0   ABEV3          Empresa ABEV3\n",
       "1   B3SA3          Empresa B3SA3\n",
       "2   BBAS3          Empresa BBAS3\n",
       "3   BBDC4          Empresa BBDC4\n",
       "4   EQTL3          Empresa EQTL3\n",
       "5   GEMI4  Gemini Enterprises SA\n",
       "6   ITUB4          Empresa ITUB4\n",
       "7   MGLU3          Empresa MGLU3\n",
       "8   PETR4          Empresa PETR4\n",
       "9   RENT3          Empresa RENT3\n",
       "10  VALE3          Empresa VALE3\n",
       "11  WEGE3          Empresa WEGE3"
      ]
     },
     "metadata": {},
     "output_type": "display_data"
    },
    {
     "name": "stdout",
     "output_type": "stream",
     "text": [
      "\n",
      "================================================================================\n",
      "\n"
     ]
    }
   ],
   "source": [
    "# Teste de Status da API (não precisa de chave)\n",
    "testar_endpoint(\"GET\", f\"{BASE_URL}/\")\n",
    "\n",
    "# Teste de Listagem de todos os tickers\n",
    "testar_endpoint(\"GET\", f\"{BASE_URL}/api/v1/acoes/listar-todos\", headers=HEADERS)"
   ]
  },
  {
   "cell_type": "markdown",
   "id": "f34645bf",
   "metadata": {},
   "source": [
    "## 2. Teste de Consulta por Ticker Específico\n",
    "Testamos a busca por um ticker que existe e por um que não existe para validar o tratamento de erro 404."
   ]
  },
  {
   "cell_type": "code",
   "execution_count": null,
   "id": "3cbcec2e",
   "metadata": {},
   "outputs": [
    {
     "name": "stdout",
     "output_type": "stream",
     "text": [
      "--- Testando: GET http://127.0.0.1:8000/api/v1/acoes/PETR4 ---\n",
      "\n",
      "Status Code: 200\n",
      "Resposta JSON:\n",
      "{\n",
      "  \"ticker\": \"PETR4\",\n",
      "  \"nome_empresa\": \"Empresa PETR4\",\n",
      "  \"preco_atual\": \"31.88\",\n",
      "  \"variacao_percentual\": \"0.0\",\n",
      "  \"atualizado_em\": \"2025-06-23T00:00:00\"\n",
      "}\n",
      "\n",
      "================================================================================\n",
      "\n",
      "--- Testando: GET http://127.0.0.1:8000/api/v1/acoes/ACAOINEXISTENTE123 ---\n",
      "\n",
      "Status Code: 404\n",
      "Resposta JSON:\n",
      "{\n",
      "  \"detail\": \"Ticker 'ACAOINEXISTENTE123' ou seu histórico de preços não foram encontrados.\"\n",
      "}\n",
      "\n",
      "================================================================================\n",
      "\n"
     ]
    }
   ],
   "source": [
    "# Teste buscando uma ação que existe\n",
    "testar_endpoint(\"GET\", f\"{BASE_URL}/api/v1/acoes/PETR4\", headers=HEADERS)\n",
    "\n",
    "# Teste buscando uma ação que NÃO existe \n",
    "testar_endpoint(\"GET\", f\"{BASE_URL}/api/v1/acoes/ACAOINEXISTENTE123\", headers=HEADERS)"
   ]
  },
  {
   "cell_type": "markdown",
   "id": "444dd160",
   "metadata": {},
   "source": [
    "## 3. Teste de Consulta de Múltiplos Tickers\n",
    "Testamos a busca com uma mistura de tickers existentes e não existentes."
   ]
  },
  {
   "cell_type": "markdown",
   "id": "fbaf668f",
   "metadata": {},
   "source": [
    "url_multi = f\"{BASE_URL}/api/v1/acoes/?tickers=PETR4&tickers=VALE3&tickers=NAOEXISTE\"\n",
    "testar_endpoint(\"GET\", url_multi, headers=HEADERS)"
   ]
  },
  {
   "cell_type": "markdown",
   "id": "8d3a9153",
   "metadata": {},
   "source": [
    "## 4. Testes de Dados Relacionados\n",
    "Verificamos os endpoints de eventos corporativos e de índices."
   ]
  },
  {
   "cell_type": "code",
   "execution_count": 15,
   "id": "353f9f2b",
   "metadata": {},
   "outputs": [
    {
     "name": "stdout",
     "output_type": "stream",
     "text": [
      "--- Testando: GET http://127.0.0.1:8000/api/v1/acoes/PETR4/eventos ---\n",
      "\n",
      "Status Code: 200\n",
      "Resposta JSON:\n",
      "[]\n",
      "\n",
      "================================================================================\n",
      "\n",
      "--- Testando: GET http://127.0.0.1:8000/api/v1/acoes/indices/principais ---\n",
      "\n",
      "Status Code: 404\n",
      "Resposta JSON:\n",
      "{\n",
      "  \"detail\": \"Índices IBOV e IFIX não encontrados no banco de dados.\"\n",
      "}\n",
      "\n",
      "================================================================================\n",
      "\n"
     ]
    }
   ],
   "source": [
    "# Teste de eventos corporativos\n",
    "testar_endpoint(\"GET\", f\"{BASE_URL}/api/v1/acoes/PETR4/eventos\", headers=HEADERS)\n",
    "\n",
    "# Teste dos principais índices\n",
    "testar_endpoint(\"GET\", f\"{BASE_URL}/api/v1/acoes/indices/principais\", headers=HEADERS)"
   ]
  },
  {
   "cell_type": "markdown",
   "id": "3043c2d8",
   "metadata": {},
   "source": [
    "## 5. Teste do Endpoint de Exclusão (DELETE)\n",
    "\n",
    "**CUIDADO:** A próxima célula irá deletar dados do banco de forma permanente."
   ]
  },
  {
   "cell_type": "code",
   "execution_count": null,
   "id": "0d634794",
   "metadata": {},
   "outputs": [
    {
     "name": "stdout",
     "output_type": "stream",
     "text": [
      "O teste a seguir irá deletar permanentemente a ação 'MGLU3' e todos os seus dados.\n",
      "--- Testando: DELETE http://127.0.0.1:8000/api/v1/acoes/MGLU3 ---\n",
      "\n",
      "Status Code: 200\n",
      "Resposta JSON:\n",
      "{\n",
      "  \"detail\": \"Ação 'MGLU3' e seus dados relacionados foram deletados com sucesso.\"\n",
      "}\n",
      "\n",
      "================================================================================\n",
      "\n",
      "Verificando se 'MGLU3' ainda existe...\n",
      "--- Testando: GET http://127.0.0.1:8000/api/v1/acoes/MGLU3 ---\n",
      "\n",
      "Status Code: 404\n",
      "Resposta JSON:\n",
      "{\n",
      "  \"detail\": \"Ticker 'MGLU3' ou seu histórico de preços não foram encontrados.\"\n",
      "}\n",
      "\n",
      "================================================================================\n",
      "\n"
     ]
    }
   ],
   "source": [
    "# Ticker coletado será deletado.\n",
    "TICKER_PARA_DELETAR = \"MGLU3\" \n",
    "\n",
    "print(f\"O teste a seguir irá deletar permanentemente a ação '{TICKER_PARA_DELETAR}' e todos os seus dados.\")\n",
    "\n",
    "# Deleta a ação\n",
    "testar_endpoint(\"DELETE\", f\"{BASE_URL}/api/v1/acoes/{TICKER_PARA_DELETAR}\", headers=HEADERS)\n",
    "\n",
    "# Verifica se a ação foi realmente deletada\n",
    "print(f\"Verificando se '{TICKER_PARA_DELETAR}' ainda existe...\")\n",
    "testar_endpoint(\"GET\", f\"{BASE_URL}/api/v1/acoes/{TICKER_PARA_DELETAR}\", headers=HEADERS)"
   ]
  },
  {
   "cell_type": "markdown",
   "id": "1cd4a59e",
   "metadata": {},
   "source": [
    "## 6. Teste do Endpoint de Cadastro de Ticker (POST)\n",
    "\n",
    "O teste será feito em três partes para garantir que tudo está funcionando como esperado:\n",
    "\n",
    "1.  **Criação:** Tentamos criar um ticker que ainda não existe. A resposta esperada é `201 Created`.\n",
    "2.  **Verificação:** Buscamos o ticker recém-criado para confirmar que ele foi salvo no banco. A resposta esperada é `200 OK`.\n",
    "3.  **Conflito:** Tentamos criar o **mesmo ticker novamente** para garantir que a API retorna o erro `409 Conflict`, como programado."
   ]
  },
  {
   "cell_type": "code",
   "execution_count": null,
   "id": "2679e773",
   "metadata": {},
   "outputs": [
    {
     "name": "stdout",
     "output_type": "stream",
     "text": [
      "Tentando criar o ticker 'ITSA3'...\n",
      "--- Testando: POST http://127.0.0.1:8000/api/v1/acoes/ ---\n",
      "\n",
      "Status Code: 201\n",
      "Resposta JSON:\n",
      "{\n",
      "  \"codigo\": \"ITSA3\",\n",
      "  \"nome\": \"Gemini Enterprises SA\"\n",
      "}\n",
      "\n",
      "================================================================================\n",
      "\n",
      "Verificando se o ticker 'ITSA3' foi criado...\n",
      "--- Testando: GET http://127.0.0.1:8000/api/v1/acoes/ITSA3 ---\n",
      "\n",
      "Status Code: 404\n",
      "Resposta JSON:\n",
      "{\n",
      "  \"detail\": \"Ticker 'ITSA3' ou seu histórico de preços não foram encontrados.\"\n",
      "}\n",
      "\n",
      "================================================================================\n",
      "\n",
      "Tentando criar o mesmo ticker novamente para testar o erro de conflito...\n",
      "--- Testando: POST http://127.0.0.1:8000/api/v1/acoes/ ---\n",
      "\n",
      "Status Code: 409\n",
      "Resposta JSON:\n",
      "{\n",
      "  \"detail\": \"Ticker já cadastrado.\"\n",
      "}\n",
      "\n",
      "================================================================================\n",
      "\n"
     ]
    }
   ],
   "source": [
    "NOVO_TICKER = {\n",
    "    \"codigo\": \"ITSA3\",\n",
    "    \"nome\": \"ITAUSA\"\n",
    "}\n",
    "\n",
    "# 1. Teste de Criação \n",
    "print(f\"Tentando criar o ticker '{NOVO_TICKER['codigo']}'...\")\n",
    "testar_endpoint(\n",
    "    \"POST\", \n",
    "    f\"{BASE_URL}/api/v1/acoes/\", \n",
    "    headers=HEADERS, \n",
    "    json=NOVO_TICKER \n",
    ")\n",
    "\n",
    "# 2. Teste de Verificação\n",
    "print(f\"Verificando se o ticker '{NOVO_TICKER['codigo']}' foi criado...\")\n",
    "testar_endpoint(\n",
    "    \"GET\", \n",
    "    f\"{BASE_URL}/api/v1/acoes/{NOVO_TICKER['codigo']}\", \n",
    "    headers=HEADERS\n",
    ")\n",
    "\n",
    "# 3. Teste de Conflito\n",
    "print(f\"Tentando criar o mesmo ticker novamente para testar o erro de conflito...\")\n",
    "testar_endpoint(\n",
    "    \"POST\", \n",
    "    f\"{BASE_URL}/api/v1/acoes/\", \n",
    "    headers=HEADERS, \n",
    "    json=NOVO_TICKER\n",
    ")"
   ]
  }
 ],
 "metadata": {
  "kernelspec": {
   "display_name": "venv",
   "language": "python",
   "name": "python3"
  },
  "language_info": {
   "codemirror_mode": {
    "name": "ipython",
    "version": 3
   },
   "file_extension": ".py",
   "mimetype": "text/x-python",
   "name": "python",
   "nbconvert_exporter": "python",
   "pygments_lexer": "ipython3",
   "version": "3.9.13"
  }
 },
 "nbformat": 4,
 "nbformat_minor": 5
}
